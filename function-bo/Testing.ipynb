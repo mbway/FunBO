{
 "cells": [
  {
   "cell_type": "markdown",
   "metadata": {},
   "source": [
    "# Testing Bayesian Optimisation for Function Optimisation\n",
    "\n",
    "### TODO\n",
    "- rather than evaluating the objective at the same places, choose xs randomly"
   ]
  },
  {
   "cell_type": "code",
   "execution_count": null,
   "metadata": {},
   "outputs": [],
   "source": [
    "# to automatically reload modules who's content has changed\n",
    "%load_ext autoreload\n",
    "%autoreload 2\n",
    "\n",
    "# configure matplotlib\n",
    "%matplotlib inline\n",
    "#%config InlineBackend.figure_format = 'svg'"
   ]
  },
  {
   "cell_type": "code",
   "execution_count": null,
   "metadata": {},
   "outputs": [],
   "source": [
    "import time\n",
    "import numpy as np\n",
    "import GPy\n",
    "import matplotlib.pyplot as plt\n",
    "import seaborn as sns; sns.set()\n",
    "\n",
    "import ipywidgets as widgets\n",
    "from IPython.display import display\n",
    "from IPython.core.debugger import set_trace"
   ]
  },
  {
   "cell_type": "code",
   "execution_count": null,
   "metadata": {},
   "outputs": [],
   "source": [
    "import function_bo as fbo\n",
    "from testing import *\n",
    "\n",
    "import sys\n",
    "sys.path.append('..')"
   ]
  },
  {
   "cell_type": "code",
   "execution_count": null,
   "metadata": {},
   "outputs": [],
   "source": [
    "plot_to_fit()"
   ]
  },
  {
   "cell_type": "markdown",
   "metadata": {},
   "source": [
    "**by specifying a different kernel or providing a mean function, many different types of functions can be sampled**"
   ]
  },
  {
   "cell_type": "code",
   "execution_count": null,
   "metadata": {},
   "outputs": [],
   "source": [
    "def plot_random_sample():\n",
    "    fig, (ax1, ax2, ax3) = plt.subplots(1, 3, figsize=(28, 6))\n",
    "    \n",
    "    bounds = ('x', xmin, xmax)\n",
    "    op = fbo.Optimiser(None, bounds, 1)\n",
    "    \n",
    "    np.random.seed(0)\n",
    "    f = op.select_random()\n",
    "    plot_f(f, ax=ax1)\n",
    "    ax1.set_title('default (RBF)')\n",
    "    \n",
    "    np.random.seed(0)\n",
    "    mu = lambda x: 0.2*x + 0.3*np.sin(x)\n",
    "    f = op.select_random(mu=mu)\n",
    "    plot_f(f, ax=ax2)\n",
    "    xs = np.linspace(xmin, xmax, num=100)\n",
    "    ax2.plot(xs, mu(xs), label=r'\\mu(x)')\n",
    "    ax2.legend()\n",
    "    ax2.set_title('default with mean function')\n",
    "    \n",
    "    f = op.select_random(GPy.kern.Matern52(input_dim=1, variance=1.0, lengthscale=0.1))\n",
    "    plot_f(f, ax=ax3)\n",
    "    ax3.set_title('Matern with small length scale')\n",
    "plot_random_sample()"
   ]
  },
  {
   "cell_type": "code",
   "execution_count": null,
   "metadata": {},
   "outputs": [],
   "source": [
    "def objective(f):\n",
    "    # global reward\n",
    "    R_g = integrate(lambda x: (f(x) - to_fit(x))**2, (xmin, xmax))\n",
    "    # local rewards\n",
    "    R_ls = []\n",
    "    for x in np.linspace(xmin, xmax, num=10):\n",
    "        R_l = (f(x)-to_fit(x))**2\n",
    "        R_ls.append((x, R_l))\n",
    "    return R_ls, R_g\n",
    "\n",
    "bounds = ('x', xmin, xmax)\n",
    "op = fbo.Optimiser(objective, bounds, desired_extremum='min', pre_phase_trials=10)"
   ]
  },
  {
   "cell_type": "code",
   "execution_count": null,
   "metadata": {},
   "outputs": [],
   "source": [
    "np.random.seed(0)\n",
    "op.run(11)"
   ]
  },
  {
   "cell_type": "code",
   "execution_count": null,
   "metadata": {},
   "outputs": [],
   "source": [
    "plot_trials(op.trials)"
   ]
  },
  {
   "cell_type": "code",
   "execution_count": null,
   "metadata": {},
   "outputs": [],
   "source": [
    "inc_i, inc = op.get_incumbent()\n",
    "print('incumbent = trial {}'.format(inc_i))\n",
    "plot_f(inc.f)"
   ]
  },
  {
   "cell_type": "code",
   "execution_count": null,
   "metadata": {},
   "outputs": [],
   "source": [
    "plot_surrogate(op, op.trials[-1].surrogate)"
   ]
  },
  {
   "cell_type": "code",
   "execution_count": null,
   "metadata": {},
   "outputs": [],
   "source": [
    "plot_surrogate_3D(op, op.trials[-1].surrogate)"
   ]
  },
  {
   "cell_type": "code",
   "execution_count": null,
   "metadata": {},
   "outputs": [],
   "source": []
  }
 ],
 "metadata": {
  "kernelspec": {
   "display_name": "Python 3",
   "language": "python",
   "name": "python3"
  },
  "language_info": {
   "codemirror_mode": {
    "name": "ipython",
    "version": 3
   },
   "file_extension": ".py",
   "mimetype": "text/x-python",
   "name": "python",
   "nbconvert_exporter": "python",
   "pygments_lexer": "ipython3",
   "version": "3.6.3"
  }
 },
 "nbformat": 4,
 "nbformat_minor": 2
}
