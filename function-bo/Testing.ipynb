{
 "cells": [
  {
   "cell_type": "markdown",
   "metadata": {},
   "source": [
    "# Testing Bayesian Optimisation for Function Optimisation\n",
    "\n",
    "### TODO\n",
    "- rather than evaluating the objective at the same places, choose xs randomly"
   ]
  },
  {
   "cell_type": "code",
   "execution_count": null,
   "metadata": {},
   "outputs": [],
   "source": [
    "# to automatically reload modules who's content has changed\n",
    "%load_ext autoreload\n",
    "%autoreload 2\n",
    "\n",
    "# configure matplotlib\n",
    "%matplotlib inline\n",
    "#%config InlineBackend.figure_format = 'svg'"
   ]
  },
  {
   "cell_type": "code",
   "execution_count": null,
   "metadata": {},
   "outputs": [],
   "source": [
    "import time\n",
    "import numpy as np\n",
    "import GPy\n",
    "import matplotlib.pyplot as plt\n",
    "import seaborn as sns; sns.set()\n",
    "\n",
    "import ipywidgets as widgets\n",
    "from IPython.display import display\n",
    "from IPython.core.debugger import set_trace"
   ]
  },
  {
   "cell_type": "code",
   "execution_count": null,
   "metadata": {},
   "outputs": [],
   "source": [
    "import function_bo as fbo\n",
    "from function_bo_plotting import *"
   ]
  },
  {
   "cell_type": "code",
   "execution_count": null,
   "metadata": {},
   "outputs": [],
   "source": [
    "xmin, xmax = 0, 10\n",
    "ymin, ymax = -5, 5\n",
    "\n",
    "def to_fit(x):\n",
    "    return np.sin(x) * 2*np.cos(x/4)\n",
    "\n",
    "def to_fit_noisy(x):\n",
    "    size = x.size if isinstance(x, np.ndarray) else None\n",
    "    return to_fit(x) + np.random.normal(loc=0, scale=0.2, size=size)\n",
    "\n",
    "def plot_to_fit():\n",
    "    xs = np.linspace(xmin, xmax, num=100)\n",
    "    plt.plot(xs, [to_fit(x) for x in xs], 'k--', label='to fit')\n",
    "    plt.xlabel('x')\n",
    "    plt.ylabel('y')\n",
    "    plt.legend()\n",
    "    plt.show()\n",
    "plot_to_fit()"
   ]
  },
  {
   "cell_type": "markdown",
   "metadata": {},
   "source": [
    "**by specifying a different kernel or providing a mean function, many different types of functions can be sampled**"
   ]
  },
  {
   "cell_type": "code",
   "execution_count": null,
   "metadata": {},
   "outputs": [],
   "source": [
    "def plot_random_sample():\n",
    "    fig, (ax1, ax2, ax3) = plt.subplots(1, 3, figsize=(28, 6))\n",
    "    \n",
    "    domain_bounds = ('x', xmin, xmax)\n",
    "    range_bounds = (ymin, ymax)\n",
    "    op = fbo.Optimiser(None, domain_bounds, range_bounds, 1)\n",
    "    \n",
    "    empty_trial = lambda f: fbo.Optimiser.Trial(f, [], None, None)\n",
    "    \n",
    "    np.random.seed(0)\n",
    "    f = op.select_random()\n",
    "    plot_trial_area(op, empty_trial(f), true_best=to_fit, quiet=True, ax=ax1)\n",
    "    ax1.set_title('default (RBF)')\n",
    "    \n",
    "    np.random.seed(0)\n",
    "    mu = lambda x: 0.2*x + 0.3*np.sin(x)\n",
    "    f = op.select_random(mu=mu)\n",
    "    plot_trial_area(op, empty_trial(f), true_best=to_fit, quiet=True, ax=ax2)\n",
    "    xs = np.linspace(xmin, xmax, num=100)\n",
    "    ax2.plot(xs, mu(xs), label=r'$\\mu(x)$')\n",
    "    ax2.legend()\n",
    "    ax2.set_title('default with mean function')\n",
    "    \n",
    "    f = op.select_random(GPy.kern.Matern52(input_dim=1, variance=1.0, lengthscale=0.1))\n",
    "    plot_trial_area(op, empty_trial(f), true_best=to_fit, quiet=True, ax=ax3)\n",
    "    ax3.set_title('Matern with small length scale')\n",
    "plot_random_sample()"
   ]
  },
  {
   "cell_type": "code",
   "execution_count": null,
   "metadata": {},
   "outputs": [],
   "source": [
    "def objective(f):\n",
    "    # global reward\n",
    "    R_g = integrate(lambda x: (f(x) - to_fit(x))**2, (xmin, xmax))\n",
    "    # local rewards\n",
    "    R_ls = []\n",
    "    for x in np.linspace(xmin, xmax, num=10):\n",
    "        R_l = (f(x)-to_fit(x))**2\n",
    "        R_ls.append((x, R_l))\n",
    "    return R_ls, R_g\n",
    "\n",
    "domain_bounds = ('x', xmin, xmax)\n",
    "range_bounds = (ymin, ymax)\n",
    "op = fbo.Optimiser(objective, domain_bounds, range_bounds, desired_extremum='min', pre_phase_trials=2)"
   ]
  },
  {
   "cell_type": "code",
   "execution_count": null,
   "metadata": {},
   "outputs": [],
   "source": [
    "np.random.seed(0)\n",
    "op.run(10)"
   ]
  },
  {
   "cell_type": "code",
   "execution_count": null,
   "metadata": {},
   "outputs": [],
   "source": [
    "plot_convergence(op, best_R_g=0)\n",
    "plot_trials(op, op.trials, to_fit, color_by_reward=True)"
   ]
  },
  {
   "cell_type": "code",
   "execution_count": null,
   "metadata": {},
   "outputs": [],
   "source": [
    "inc_i, inc = op.get_incumbent()\n",
    "print('incumbent = trial {}'.format(inc_i))\n",
    "plot_trial_area(op, inc, to_fit)"
   ]
  },
  {
   "cell_type": "code",
   "execution_count": null,
   "metadata": {},
   "outputs": [],
   "source": [
    "plot_surrogate_with_trials(op, -1, to_fit, midpoint_fraction=0.1)"
   ]
  },
  {
   "cell_type": "code",
   "execution_count": null,
   "metadata": {},
   "outputs": [],
   "source": [
    "t = op.trials[-1]\n",
    "plot_acquisition(op, t.surrogate, np.array([0]), np.array([[-1, 1]]), l=2)"
   ]
  },
  {
   "cell_type": "code",
   "execution_count": null,
   "metadata": {},
   "outputs": [],
   "source": [
    "plot_surrogate_3D(op, op.trials[-1].surrogate, flip_z=True)"
   ]
  },
  {
   "cell_type": "code",
   "execution_count": null,
   "metadata": {},
   "outputs": [],
   "source": []
  }
 ],
 "metadata": {
  "kernelspec": {
   "display_name": "Python 3",
   "language": "python",
   "name": "python3"
  },
  "language_info": {
   "codemirror_mode": {
    "name": "ipython",
    "version": 3
   },
   "file_extension": ".py",
   "mimetype": "text/x-python",
   "name": "python",
   "nbconvert_exporter": "python",
   "pygments_lexer": "ipython3",
   "version": "3.6.3"
  }
 },
 "nbformat": 4,
 "nbformat_minor": 2
}
