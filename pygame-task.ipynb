{
 "cells": [
  {
   "cell_type": "code",
   "execution_count": null,
   "metadata": {},
   "outputs": [],
   "source": [
    "# to automatically reload modules who's content has changed\n",
    "%load_ext autoreload\n",
    "%autoreload 2\n",
    "\n",
    "# configure matplotlib\n",
    "%matplotlib inline\n",
    "#%config InlineBackend.figure_format = 'svg'"
   ]
  },
  {
   "cell_type": "code",
   "execution_count": null,
   "metadata": {},
   "outputs": [],
   "source": [
    "import time\n",
    "import numpy as np\n",
    "import matplotlib.pyplot as plt\n",
    "import seaborn as sns; sns.set()"
   ]
  },
  {
   "cell_type": "code",
   "execution_count": null,
   "metadata": {},
   "outputs": [],
   "source": [
    "import turbo as tb\n",
    "import turbo.modules as tm\n",
    "import turbo.gui.jupyter as tg\n",
    "import turbo.plotting as tp"
   ]
  },
  {
   "cell_type": "code",
   "execution_count": null,
   "metadata": {},
   "outputs": [],
   "source": [
    "import pygame_task\n",
    "from functions import *\n",
    "from function_optimisation import *\n",
    "import function_optimisation as fo"
   ]
  },
  {
   "cell_type": "markdown",
   "metadata": {},
   "source": [
    "The function to be optimised here is the velocity for the ball as a function of the y position of the ball.\n",
    "\n",
    "This is hopefully a more robust solution to using time since in the real world the policy may not be executed exactly the same each time"
   ]
  },
  {
   "cell_type": "code",
   "execution_count": null,
   "metadata": {},
   "outputs": [],
   "source": [
    "sim = pygame_task.Simulation()"
   ]
  },
  {
   "cell_type": "code",
   "execution_count": null,
   "metadata": {},
   "outputs": [],
   "source": [
    "xmin, xmax = 0, sim.h\n",
    "fo.xmin, fo.xmax = xmin, xmax\n",
    "#hmin, hmax = -100, 100  # velocity\n",
    "hmin, hmax = 0, sim.w   # position\n",
    "\n",
    "num_controls = 5\n",
    "cs = evenly_spaced(xmin, xmax, num_controls)\n",
    "bounds = [('h{:02d}'.format(i), hmin, hmax) for i in range(num_controls)]\n",
    "\n",
    "def build_fun(args):\n",
    "    args = parse_args(args)\n",
    "    heights = args['h']\n",
    "    assert len(cs) == len(heights)\n",
    "    return Piecewise(list(zip(cs, heights)), interpolation='quadratic')\n",
    "    \n",
    "def objective(**args):\n",
    "    f = build_fun(args)\n",
    "    return sim.run(fps=2000, ball_control=f, quiet=True)"
   ]
  },
  {
   "cell_type": "code",
   "execution_count": null,
   "metadata": {},
   "outputs": [],
   "source": [
    "recs = turbo_opt(objective, bounds, desired_extremum='max')\n",
    "#recs = random_opt(objective, bounds, desired_extremum='max', max_trials=80)"
   ]
  },
  {
   "cell_type": "code",
   "execution_count": null,
   "metadata": {},
   "outputs": [],
   "source": [
    "plot_summary(recs, None, build_fun)"
   ]
  },
  {
   "cell_type": "code",
   "execution_count": null,
   "metadata": {},
   "outputs": [],
   "source": [
    "def show_traj(optimiser, trial):\n",
    "    args = optimiser._point_to_dict(trial.x)\n",
    "    print(parse_args(args))\n",
    "    f = build_fun(args)\n",
    "    sim.show_trail(f)\n",
    "    \n",
    "def show_inc_trajs(recs):\n",
    "    for r in recs:\n",
    "        inc = r.get_incumbent()\n",
    "        print('trial {} cost {}'.format(inc[0], inc[1].y))\n",
    "        show_traj(r.optimiser, inc[1])"
   ]
  },
  {
   "cell_type": "code",
   "execution_count": null,
   "metadata": {},
   "outputs": [],
   "source": [
    "show_inc_trajs(recs)"
   ]
  },
  {
   "cell_type": "code",
   "execution_count": null,
   "metadata": {},
   "outputs": [],
   "source": []
  },
  {
   "cell_type": "code",
   "execution_count": null,
   "metadata": {},
   "outputs": [],
   "source": []
  }
 ],
 "metadata": {
  "kernelspec": {
   "display_name": "Python 3",
   "language": "python",
   "name": "python3"
  },
  "language_info": {
   "codemirror_mode": {
    "name": "ipython",
    "version": 3
   },
   "file_extension": ".py",
   "mimetype": "text/x-python",
   "name": "python",
   "nbconvert_exporter": "python",
   "pygments_lexer": "ipython3",
   "version": "3.6.4"
  }
 },
 "nbformat": 4,
 "nbformat_minor": 2
}
