{
 "cells": [
  {
   "cell_type": "code",
   "execution_count": null,
   "metadata": {},
   "outputs": [],
   "source": [
    "# to automatically reload modules who's content has changed\n",
    "%load_ext autoreload\n",
    "%autoreload 2\n",
    "# configure matplotlib\n",
    "%matplotlib inline\n",
    "#%config InlineBackend.figure_format = 'svg'"
   ]
  },
  {
   "cell_type": "code",
   "execution_count": null,
   "metadata": {},
   "outputs": [],
   "source": [
    "from task_utils import *"
   ]
  },
  {
   "cell_type": "code",
   "execution_count": null,
   "metadata": {},
   "outputs": [],
   "source": [
    "import funbo as fb\n",
    "import funbo.plotting as fp"
   ]
  },
  {
   "cell_type": "code",
   "execution_count": null,
   "metadata": {},
   "outputs": [],
   "source": [
    "def derivative(func):\n",
    "    def df(X):\n",
    "        dfs = []\n",
    "        f = lambda x: np.asscalar(func(np.array([x])))\n",
    "        for x in X:\n",
    "            dfs.append(scipy.optimize.approx_fprime(x, f, epsilon=np.sqrt(np.finfo(float).eps)))\n",
    "        return np.array(dfs).reshape(-1, 1)\n",
    "    return df\n",
    "\n",
    "class F:\n",
    "    def __init__(self, f):\n",
    "        self.f = f\n",
    "        self.df = derivative(f)\n",
    "        self.eval_count = 0\n",
    "        \n",
    "    def __call__(self, X, return_gradient=False):\n",
    "        assert X.ndim == 2\n",
    "        self.eval_count += X.shape[0]\n",
    "        return (self.f(X), self.df(X)) if return_gradient else self.f(X)\n",
    "\n",
    "class Trial:\n",
    "    def __init__(self, f):\n",
    "        np.random.seed(0)\n",
    "        f.eval_count = 0\n",
    "        self.f = f\n",
    "        self.start = time.perf_counter()\n",
    "    def finish(self, txs, tys):\n",
    "        dur = time.perf_counter()-self.start\n",
    "        print('{} evaluations in {:.2f}s'.format(self.f.eval_count, dur))\n",
    "        fig, ax = plt.subplots(figsize=(12, 8))\n",
    "        ax.plot(xs, f(xs.reshape(-1, 1)), label='f(x)')\n",
    "        ax.scatter(txs.flatten(), tys.flatten(), label='test points')\n",
    "        ax.legend()"
   ]
  },
  {
   "cell_type": "code",
   "execution_count": null,
   "metadata": {},
   "outputs": [],
   "source": [
    "bounds = [(0, 10)]\n",
    "xs = np.linspace(bounds[0][0], bounds[0][1], num=500)\n",
    "f = F(lambda X: np.sin(X)*X + np.cos(X*3) * 0.1*X**2 - 1.5*X)"
   ]
  },
  {
   "cell_type": "code",
   "execution_count": null,
   "metadata": {},
   "outputs": [],
   "source": [
    "def _():\n",
    "    fig, ax = plt.subplots(figsize=(12, 8))\n",
    "    fx, dfx = f(xs.reshape(-1, 1), return_gradient=True)\n",
    "    ax.plot(xs, fx, label='f(x)')\n",
    "    ax.plot(xs, dfx, '--', label='df_dx')\n",
    "    ax.legend()\n",
    "_()"
   ]
  },
  {
   "cell_type": "code",
   "execution_count": null,
   "metadata": {},
   "outputs": [],
   "source": [
    "def _():\n",
    "    t = Trial(f)\n",
    "    n = 15\n",
    "    txs, tys = fb.maximise_random(f, bounds, num_samples=n, num_take=n)\n",
    "    t.finish(txs, tys)\n",
    "_()"
   ]
  },
  {
   "cell_type": "code",
   "execution_count": null,
   "metadata": {},
   "outputs": [],
   "source": [
    "def _():\n",
    "    t = Trial(f)\n",
    "    n = 1\n",
    "    txs, tys = fb.maximise_quasi_Newton_restarts(f, bounds, num_its=n, num_take=n, exact_gradient=True)\n",
    "    t.finish(txs, tys)\n",
    "_()"
   ]
  },
  {
   "cell_type": "code",
   "execution_count": null,
   "metadata": {},
   "outputs": [],
   "source": []
  }
 ],
 "metadata": {
  "kernelspec": {
   "display_name": "Python 3",
   "language": "python",
   "name": "python3"
  },
  "language_info": {
   "codemirror_mode": {
    "name": "ipython",
    "version": 3
   },
   "file_extension": ".py",
   "mimetype": "text/x-python",
   "name": "python",
   "nbconvert_exporter": "python",
   "pygments_lexer": "ipython3",
   "version": "3.6.5"
  }
 },
 "nbformat": 4,
 "nbformat_minor": 2
}
