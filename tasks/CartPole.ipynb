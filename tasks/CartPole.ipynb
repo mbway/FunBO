{
 "cells": [
  {
   "cell_type": "code",
   "execution_count": null,
   "metadata": {},
   "outputs": [],
   "source": [
    "# to automatically reload modules who's content has changed\n",
    "%load_ext autoreload\n",
    "%autoreload 2\n",
    "\n",
    "# configure matplotlib\n",
    "%matplotlib inline\n",
    "#%config InlineBackend.figure_format = 'svg'"
   ]
  },
  {
   "cell_type": "code",
   "execution_count": null,
   "metadata": {},
   "outputs": [],
   "source": [
    "import time\n",
    "import numpy as np\n",
    "import GPy\n",
    "import matplotlib as mpl\n",
    "import matplotlib.pyplot as plt\n",
    "import seaborn as sns; sns.set()\n",
    "from collections import namedtuple\n",
    "import gym\n",
    "\n",
    "import ipywidgets as widgets\n",
    "from IPython.display import display\n",
    "from IPython.core.debugger import set_trace"
   ]
  },
  {
   "cell_type": "code",
   "execution_count": null,
   "metadata": {},
   "outputs": [],
   "source": [
    "env = gym.make('CartPole-v0')"
   ]
  },
  {
   "cell_type": "markdown",
   "metadata": {},
   "source": [
    "## Observation\n",
    "\n",
    "| Num |Observation           | Min Possible Value   | Max Possible Value   |\n",
    "|-----|----------------------|----------------------|----------------------|\n",
    "| 0   | Cart Position        | -2.4                 | 2.4                  |\n",
    "| 1   | Cart Velocity        | $-\\infty$            | $\\infty$             |\n",
    "| 2   | Pole Angle           | $\\approx-41.8^\\circ$ | $\\approx41.8^\\circ$  |\n",
    "| 3   | Pole Velocity At Tip | $-\\infty$            | $\\infty$             |\n",
    "\n",
    "## Action\n",
    "\n",
    "|Num | Action                 |\n",
    "|----|------------------------|\n",
    "|0   | Push cart to the left  |\n",
    "|1   | Push cart to the right |\n"
   ]
  },
  {
   "cell_type": "code",
   "execution_count": null,
   "metadata": {},
   "outputs": [],
   "source": [
    "max_time = 100\n",
    "State = namedtuple('State', ['c_pos', 'c_vel', 'p_theta', 'p_vel'])\n",
    "\n",
    "def objective(f):\n",
    "    observation = env.reset()\n",
    "    state = State(*observation)\n",
    "    states = [state]\n",
    "    \n",
    "    for t in range(max_time):\n",
    "        env.render()\n",
    "\n",
    "        action = f(state)\n",
    "        observation, reward, done, _ = env.step(action)\n",
    "        state = State(*observation)\n",
    "        states.append(state)\n",
    "        if done:\n",
    "            break\n",
    "        time.sleep(0.1)\n",
    "    return states\n",
    "\n",
    "my_solution = lambda s: 0 if s.p_theta*abs(s.p_vel-s.c_vel) < 0.00 else 1\n",
    "states = objective(my_solution)\n"
   ]
  },
  {
   "cell_type": "code",
   "execution_count": null,
   "metadata": {},
   "outputs": [],
   "source": [
    "plt.plot(range(len(states)), [s.p_theta for s in states])\n",
    "plt.xlim(0, max_time)\n",
    "plt.show()"
   ]
  },
  {
   "cell_type": "code",
   "execution_count": null,
   "metadata": {},
   "outputs": [],
   "source": [
    "plt.plot(range(len(states)), [s.p_vel for s in states])"
   ]
  },
  {
   "cell_type": "code",
   "execution_count": null,
   "metadata": {},
   "outputs": [],
   "source": []
  }
 ],
 "metadata": {
  "kernelspec": {
   "display_name": "Python 3",
   "language": "python",
   "name": "python3"
  },
  "language_info": {
   "codemirror_mode": {
    "name": "ipython",
    "version": 3
   },
   "file_extension": ".py",
   "mimetype": "text/x-python",
   "name": "python",
   "nbconvert_exporter": "python",
   "pygments_lexer": "ipython3",
   "version": "3.6.3"
  }
 },
 "nbformat": 4,
 "nbformat_minor": 2
}
