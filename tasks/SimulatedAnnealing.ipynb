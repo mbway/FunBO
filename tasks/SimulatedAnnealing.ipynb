{
 "cells": [
  {
   "cell_type": "code",
   "execution_count": null,
   "metadata": {},
   "outputs": [],
   "source": [
    "# to automatically reload modules who's content has changed\n",
    "%load_ext autoreload\n",
    "%autoreload 2\n",
    "# configure matplotlib\n",
    "%matplotlib inline\n",
    "#%config InlineBackend.figure_format = 'svg'"
   ]
  },
  {
   "cell_type": "code",
   "execution_count": null,
   "metadata": {},
   "outputs": [],
   "source": [
    "from task_utils import *"
   ]
  },
  {
   "cell_type": "code",
   "execution_count": null,
   "metadata": {},
   "outputs": [],
   "source": [
    "import funbo as fb\n",
    "import funbo.plotting as fp"
   ]
  },
  {
   "cell_type": "code",
   "execution_count": null,
   "metadata": {},
   "outputs": [],
   "source": [
    "import simulated_annealing as sa"
   ]
  },
  {
   "cell_type": "code",
   "execution_count": null,
   "metadata": {},
   "outputs": [],
   "source": [
    "def Weierstrass(x, a=0.5, b=5, N=20):\n",
    "    # true Weierstrass function is an infinite sum so N = infinity\n",
    "    a = a or (1+3/2*np.pi)/b\n",
    "    return sum(a**n * np.cos(b**n * np.pi * x) for n in range(N))\n",
    "bounds = (-1, 1)"
   ]
  },
  {
   "cell_type": "code",
   "execution_count": null,
   "metadata": {},
   "outputs": [],
   "source": [
    "def _():\n",
    "    fig, ax = plt.subplots(figsize=(25, 8))\n",
    "    xs = np.linspace(*bounds, num=2000)\n",
    "    ax.plot(xs, [Weierstrass(x) for x in xs])\n",
    "    \n",
    "    print('global maximum =', Weierstrass(0))\n",
    "_()"
   ]
  },
  {
   "cell_type": "code",
   "execution_count": null,
   "metadata": {},
   "outputs": [],
   "source": [
    "class hyper_params:\n",
    "    max_its=100\n",
    "    \n",
    "    initial_step=0.3\n",
    "    step_alter_chunk=10\n",
    "    \n",
    "    M=5 # lower seems to be more reliably good\n",
    "    factor=0.9**5\n",
    "    T_0=3\n",
    "    T_min=0.2\n",
    "    \n",
    "def optimise(h, seed, quiet=False):\n",
    "    np.random.seed(seed)\n",
    "    \n",
    "    class Optimiser:\n",
    "        def __init__(self):\n",
    "            self.step_size = h.initial_step\n",
    "            self.change_counter = 1\n",
    "            self.step_size_record = [self.step_size]\n",
    "            \n",
    "        def choose_neighbour(self, state, state_record, acceptance_record, temperature):\n",
    "            # adjust the step size to try to maintain roughly 60% acceptance rate\n",
    "            chunk = h.step_alter_chunk\n",
    "            if self.change_counter % chunk == 0:\n",
    "                acceptance_record = acceptance_record[-chunk:] # only interested in the last few\n",
    "                average_acceptance = acceptance_record.count(True) / len(acceptance_record)\n",
    "                x = np.random.uniform(0, 0.1)\n",
    "                if average_acceptance > 0.7:\n",
    "                    self.step_size *= 1 + x\n",
    "                elif average_acceptance < 0.5:\n",
    "                    self.step_size *= 1 - x\n",
    "            self.change_counter += 1\n",
    "            self.step_size_record.append(self.step_size)\n",
    "            #c = state + np.random.choice([-1, 1]) * self.step_size\n",
    "            #c = state + np.random.normal(loc=0, scale=self.step_size)\n",
    "            c = state + np.random.uniform(-1, 1)*self.step_size\n",
    "            return np.clip(c, *bounds) # ensure not to go out of bounds\n",
    "        \n",
    "        def cooling_schedule(self, i):\n",
    "            return sa.temperature_exponential_decay(i, M=h.M, factor=h.factor, T_0=h.T_0, T_min=h.T_min)\n",
    "\n",
    "    o = Optimiser()\n",
    "    best, best_E, rec = sa.simulated_annealing(\n",
    "        energy_func=lambda x: -Weierstrass(x),\n",
    "        initial_state=np.random.uniform(*bounds),\n",
    "        max_its=h.max_its,\n",
    "        candidate_dist=o.choose_neighbour,\n",
    "        cooling_schedule=o.cooling_schedule\n",
    "    )\n",
    "    if not quiet:\n",
    "        print('{}/{} accepted'.format(len(rec), h.max_its))\n",
    "        print('best =', best)\n",
    "        print('best_E =', best_E)\n",
    "    return best, best_E, rec, o\n"
   ]
  },
  {
   "cell_type": "code",
   "execution_count": null,
   "metadata": {},
   "outputs": [],
   "source": [
    "def _():\n",
    "    best_Es = []\n",
    "    for i in range(50):\n",
    "        best, best_E, rec, o = optimise(hyper_params, seed=i, quiet=True)\n",
    "        best_Es.append(best_E)\n",
    "    print('average best = {}, var = {}'.format(np.mean(best_Es), np.var(best_Es)))\n",
    "_()"
   ]
  },
  {
   "cell_type": "code",
   "execution_count": null,
   "metadata": {},
   "outputs": [],
   "source": [
    "_, _, rec, o = optimise(hyper_params, seed=0)"
   ]
  },
  {
   "cell_type": "code",
   "execution_count": null,
   "metadata": {},
   "outputs": [],
   "source": [
    "def _():\n",
    "    fig, (ax1, ax2) = plt.subplots(2, 1, figsize=(25, 12))\n",
    "    xs = np.arange(len(o.step_size_record))\n",
    "    ax1.plot(xs, o.step_size_record, 'o-')\n",
    "    ax1.set_xlabel('iteration')\n",
    "    ax1.set_ylabel('step size')\n",
    "    ax1.set_yscale('log')\n",
    "    \n",
    "    xs = np.arange(hyper_params.max_its)\n",
    "    ax2.plot(xs, [o.cooling_schedule(i) for i in xs])\n",
    "    ax2.set_xlabel('iteration')\n",
    "    ax2.set_ylabel('temperature')\n",
    "    \n",
    "    fig.tight_layout()\n",
    "_()"
   ]
  },
  {
   "cell_type": "code",
   "execution_count": null,
   "metadata": {},
   "outputs": [],
   "source": [
    "def _():\n",
    "    fig, ax = plt.subplots(figsize=(25, 8))\n",
    "    xs = np.linspace(*bounds, num=2000)\n",
    "    ax.plot(xs, [Weierstrass(x) for x in xs])\n",
    "    best = ax.axvline(x=0, color='k', linestyle='--', animated=True, alpha=0.5)\n",
    "    current = ax.axvline(x=0, color='r', animated=True)\n",
    "    fig.tight_layout()\n",
    "    \n",
    "    def update(frame):\n",
    "        v = rec[-1][0] if frame >= len(rec) else rec[frame][0]\n",
    "        current.set_xdata(v)\n",
    "        v = min(rec[:frame+1], key=lambda x: x[1])[0]\n",
    "        best.set_xdata(v)\n",
    "    import matplotlib as mpl\n",
    "    import matplotlib.animation\n",
    "    from IPython.display import display, HTML\n",
    "    ani = mpl.animation.FuncAnimation(fig, update, frames=np.arange(len(rec) + 40), interval=50)\n",
    "    display(HTML(ani.to_html5_video()))\n",
    "    plt.close(fig)\n",
    "_()"
   ]
  },
  {
   "cell_type": "code",
   "execution_count": null,
   "metadata": {},
   "outputs": [],
   "source": []
  },
  {
   "cell_type": "code",
   "execution_count": null,
   "metadata": {},
   "outputs": [],
   "source": []
  }
 ],
 "metadata": {
  "kernelspec": {
   "display_name": "Python 3",
   "language": "python",
   "name": "python3"
  },
  "language_info": {
   "codemirror_mode": {
    "name": "ipython",
    "version": 3
   },
   "file_extension": ".py",
   "mimetype": "text/x-python",
   "name": "python",
   "nbconvert_exporter": "python",
   "pygments_lexer": "ipython3",
   "version": "3.6.5"
  }
 },
 "nbformat": 4,
 "nbformat_minor": 2
}
