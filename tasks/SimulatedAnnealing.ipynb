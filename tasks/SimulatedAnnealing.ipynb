{
 "cells": [
  {
   "cell_type": "code",
   "execution_count": null,
   "metadata": {},
   "outputs": [],
   "source": [
    "# to automatically reload modules who's content has changed\n",
    "%load_ext autoreload\n",
    "%autoreload 2\n",
    "# configure matplotlib\n",
    "%matplotlib inline\n",
    "#%config InlineBackend.figure_format = 'svg'"
   ]
  },
  {
   "cell_type": "code",
   "execution_count": null,
   "metadata": {},
   "outputs": [],
   "source": [
    "from task_utils import *"
   ]
  },
  {
   "cell_type": "code",
   "execution_count": null,
   "metadata": {},
   "outputs": [],
   "source": [
    "import funbo as fb\n",
    "import funbo.plotting as fp"
   ]
  },
  {
   "cell_type": "code",
   "execution_count": null,
   "metadata": {},
   "outputs": [],
   "source": [
    "import simulated_annealing as sa"
   ]
  },
  {
   "cell_type": "code",
   "execution_count": null,
   "metadata": {},
   "outputs": [],
   "source": [
    "def Weierstrass(x, a=0.5, b=5, N=20):\n",
    "    # true Weierstrass function is an infinite sum so N = infinity\n",
    "    a = a or (1+3/2*np.pi)/b\n",
    "    return sum(a**n * np.cos(b**n * np.pi * x) for n in range(N))\n",
    "bounds = (-1, 1)"
   ]
  },
  {
   "cell_type": "code",
   "execution_count": null,
   "metadata": {},
   "outputs": [],
   "source": [
    "def _():\n",
    "    fig, ax = plt.subplots(figsize=(25, 8))\n",
    "    xs = np.linspace(*bounds, num=2000)\n",
    "    ax.plot(xs, [Weierstrass(x) for x in xs])\n",
    "    \n",
    "    print('global maximum =', Weierstrass(0))\n",
    "_()"
   ]
  },
  {
   "cell_type": "code",
   "execution_count": null,
   "metadata": {},
   "outputs": [],
   "source": [
    "def optimise():\n",
    "    np.random.seed(0)\n",
    "    \n",
    "    class Optimiser:\n",
    "        def __init__(self):\n",
    "            self.step_size = 0.1\n",
    "            self.change_counter = 1\n",
    "            self.step_size_record = [self.step_size]\n",
    "            \n",
    "        def choose_neighbour(self, state, state_record, acceptance_record, temperature):\n",
    "            # adjust the step size to try to maintain roughly 60% acceptance rate\n",
    "            chunk = 10\n",
    "            if self.change_counter % chunk == 0:\n",
    "                acceptance_record = acceptance_record[-chunk:] # only interested in the last few\n",
    "                average_acceptance = acceptance_record.count(True) / len(acceptance_record)\n",
    "                x = np.random.uniform(0, 0.1)\n",
    "                if average_acceptance > 0.7:\n",
    "                    self.step_size *= 1 + x\n",
    "                elif average_acceptance < 0.5:\n",
    "                    self.step_size *= 1 - x\n",
    "            self.change_counter += 1\n",
    "            self.step_size_record.append(self.step_size)\n",
    "            #c = state + np.random.choice([-1, 1]) * self.step_size\n",
    "            c = state + np.random.normal(loc=0, scale=self.step_size)\n",
    "            #c = state + np.random.uniform(-1, 1)*self.step_size\n",
    "            return np.clip(c, *bounds) # ensure not to go out of bounds\n",
    "        \n",
    "        def cooling_schedule(self, i):\n",
    "            return sa.temperature_exponential_decay(i, M=20, factor=0.9, T_0=1)\n",
    "\n",
    "    o = Optimiser()\n",
    "    max_its = 100\n",
    "    best, best_E, rec = sa.simulated_annealing(\n",
    "        energy_func=lambda x: -Weierstrass(x),\n",
    "        initial_state=np.random.uniform(*bounds),\n",
    "        max_its=max_its,\n",
    "        candidate_dist=o.choose_neighbour,\n",
    "        cooling_schedule=o.cooling_schedule\n",
    "    )\n",
    "    print('{}/{} accepted'.format(len(rec), max_its))\n",
    "    print('best =', best)\n",
    "    print('best_E =', best_E)\n",
    "    return rec, o\n",
    "rec, o = optimise()"
   ]
  },
  {
   "cell_type": "code",
   "execution_count": null,
   "metadata": {},
   "outputs": [],
   "source": [
    "def _():\n",
    "    fig, ax = plt.subplots(figsize=(25, 8))\n",
    "    xs = np.arange(len(o.step_size_record))\n",
    "    ax.plot(xs, o.step_size_record, 'o-')\n",
    "    ax.set_xlabel('iteration')\n",
    "    ax.set_ylabel('step size')\n",
    "    ax.set_yscale('log')\n",
    "_()"
   ]
  },
  {
   "cell_type": "code",
   "execution_count": null,
   "metadata": {},
   "outputs": [],
   "source": [
    "def _():\n",
    "    fig, ax = plt.subplots(figsize=(25, 8))\n",
    "    xs = np.linspace(*bounds, num=2000)\n",
    "    ax.plot(xs, [Weierstrass(x) for x in xs])\n",
    "    best = ax.axvline(x=0, color='k', linestyle='--', animated=True, alpha=0.5)\n",
    "    current = ax.axvline(x=0, color='r', animated=True)\n",
    "    fig.tight_layout()\n",
    "    \n",
    "    def update(frame):\n",
    "        v = rec[-1][0] if frame >= len(rec) else rec[frame][0]\n",
    "        current.set_xdata(v)\n",
    "        v = min(rec[:frame+1], key=lambda x: x[1])[0]\n",
    "        best.set_xdata(v)\n",
    "    import matplotlib as mpl\n",
    "    import matplotlib.animation\n",
    "    from IPython.display import display, HTML\n",
    "    ani = mpl.animation.FuncAnimation(fig, update, frames=np.arange(len(rec) + 40), interval=50)\n",
    "    display(HTML(ani.to_html5_video()))\n",
    "    plt.close(fig)\n",
    "_()"
   ]
  },
  {
   "cell_type": "code",
   "execution_count": null,
   "metadata": {},
   "outputs": [],
   "source": []
  },
  {
   "cell_type": "code",
   "execution_count": null,
   "metadata": {},
   "outputs": [],
   "source": []
  }
 ],
 "metadata": {
  "kernelspec": {
   "display_name": "Python 3",
   "language": "python",
   "name": "python3"
  },
  "language_info": {
   "codemirror_mode": {
    "name": "ipython",
    "version": 3
   },
   "file_extension": ".py",
   "mimetype": "text/x-python",
   "name": "python",
   "nbconvert_exporter": "python",
   "pygments_lexer": "ipython3",
   "version": "3.6.5"
  }
 },
 "nbformat": 4,
 "nbformat_minor": 2
}
