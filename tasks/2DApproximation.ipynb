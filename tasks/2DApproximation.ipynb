{
 "cells": [
  {
   "cell_type": "code",
   "execution_count": null,
   "metadata": {},
   "outputs": [],
   "source": [
    "# to automatically reload modules who's content has changed\n",
    "%load_ext autoreload\n",
    "%autoreload 2\n",
    "\n",
    "# configure matplotlib\n",
    "%matplotlib inline\n",
    "#%config InlineBackend.figure_format = 'svg'"
   ]
  },
  {
   "cell_type": "code",
   "execution_count": null,
   "metadata": {},
   "outputs": [],
   "source": [
    "from task_utils import *"
   ]
  },
  {
   "cell_type": "code",
   "execution_count": null,
   "metadata": {},
   "outputs": [],
   "source": [
    "import funbo as fb\n",
    "import funbo.plotting as fp"
   ]
  },
  {
   "cell_type": "code",
   "execution_count": null,
   "metadata": {},
   "outputs": [],
   "source": [
    "domain_bounds = [('x1', 0, 6), ('x2', 0, 6)]\n",
    "range_bounds = (-1, 2.5)"
   ]
  },
  {
   "cell_type": "code",
   "execution_count": null,
   "metadata": {},
   "outputs": [],
   "source": [
    "noisy = False\n",
    "def to_fit(x, y):\n",
    "    ''' from https://github.com/fmfn/BayesianOptimization/issues/18 '''\n",
    "    a = np.exp(-( (x - 2)**2/0.7 + (y - 4)**2/1.2) + (x - 2)*(y - 4)/1.6 )\n",
    "    b = np.exp(-( (x - 4)**2/3 + (y - 2)**2/2.) )\n",
    "    c = np.exp(-( (x - 4)**2/0.5 + (y - 4)**2/0.5) + (x - 4)*(y - 4)/0.5 )\n",
    "    d = np.sin(3.1415 * x)\n",
    "    e = np.exp(-( (x - 5.5)**2/0.5 + (y - 5.5)**2/.5) )\n",
    "    val = 2*a + b - c + 0.17 * d + 2*e\n",
    "    return val + np.random.normal(0, 0.2, size=None if isinstance(x, float) else x.shape) if noisy else val"
   ]
  },
  {
   "cell_type": "code",
   "execution_count": null,
   "metadata": {},
   "outputs": [],
   "source": [
    "def plot_to_fit():\n",
    "    g = fb.utils.RegularGrid(50, [b[1:] for b in domain_bounds])\n",
    "    X, Y = g.meshgrid()\n",
    "    Z = to_fit(X, Y)\n",
    "    fp.surface_3D(X, Y, Z, axes_names=('x1', 'x2', 'y'))\n",
    "plot_to_fit()"
   ]
  },
  {
   "cell_type": "code",
   "execution_count": null,
   "metadata": {},
   "outputs": [],
   "source": [
    "def make_objective(to_fit, sample_num, sample_dist):\n",
    "    def objective(f):\n",
    "        bounds = [b[1:] for b in domain_bounds]\n",
    "        # global reward\n",
    "        R_g = fp.multidimensional_integrate(lambda x: (f(x) - to_fit(x))**2, bounds)\n",
    "        # local rewards\n",
    "        R_ls = []\n",
    "        if sample_dist == 'linear':\n",
    "            reward_xs = np.linspace(xmin, xmax, num=sample_num)\n",
    "        elif sample_dist == 'random':\n",
    "            reward_xs = np.random.uniform(xmin, xmax, size=(sample_num,))\n",
    "        else:\n",
    "            raise ValueError()\n",
    "        for x in reward_xs:\n",
    "            R_l = (f(x)-to_fit(x))**2\n",
    "            R_ls.append((x, R_l))\n",
    "        return R_ls, R_g\n",
    "    return objective"
   ]
  },
  {
   "cell_type": "code",
   "execution_count": null,
   "metadata": {},
   "outputs": [],
   "source": [
    "f = fb.utils.InterpolatedFunction(g.get_points(), np.array(values).reshape(-1,1))"
   ]
  },
  {
   "cell_type": "code",
   "execution_count": null,
   "metadata": {},
   "outputs": [],
   "source": [
    "X, Y = eval_g.meshgrid()\n",
    "Z = f(eval_g.get_points()).reshape(X.shape)\n",
    "fp.surface_3D(X, Y, Z)"
   ]
  },
  {
   "cell_type": "code",
   "execution_count": null,
   "metadata": {},
   "outputs": [],
   "source": [
    "def to_fit(x):\n",
    "    return np.sin(x) * 2*np.cos(x/4)\n",
    "g = fb.utils.RegularGrid(10, [(0, 10)])"
   ]
  },
  {
   "cell_type": "code",
   "execution_count": null,
   "metadata": {},
   "outputs": [],
   "source": [
    "xs = g.get_points()\n",
    "ys = to_fit(xs)"
   ]
  },
  {
   "cell_type": "code",
   "execution_count": null,
   "metadata": {},
   "outputs": [],
   "source": [
    "f = scipy.interpolate.interp1d(xs.flatten(), ys.flatten(), kind='quadratic')"
   ]
  },
  {
   "cell_type": "code",
   "execution_count": null,
   "metadata": {},
   "outputs": [],
   "source": [
    "g = fb.utils.RegularGrid(100, [(0, 10)])\n",
    "plt.plot(g.get_points(), f(g.get_points().flatten()))"
   ]
  },
  {
   "cell_type": "code",
   "execution_count": null,
   "metadata": {},
   "outputs": [],
   "source": []
  }
 ],
 "metadata": {
  "kernelspec": {
   "display_name": "Python 3",
   "language": "python",
   "name": "python3"
  },
  "language_info": {
   "codemirror_mode": {
    "name": "ipython",
    "version": 3
   },
   "file_extension": ".py",
   "mimetype": "text/x-python",
   "name": "python",
   "nbconvert_exporter": "python",
   "pygments_lexer": "ipython3",
   "version": "3.6.5"
  }
 },
 "nbformat": 4,
 "nbformat_minor": 2
}
