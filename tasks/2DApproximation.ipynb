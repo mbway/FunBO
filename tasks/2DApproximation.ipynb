{
 "cells": [
  {
   "cell_type": "code",
   "execution_count": null,
   "metadata": {},
   "outputs": [],
   "source": [
    "# to automatically reload modules who's content has changed\n",
    "%load_ext autoreload\n",
    "%autoreload 2\n",
    "\n",
    "# configure matplotlib\n",
    "%matplotlib inline\n",
    "#%config InlineBackend.figure_format = 'svg'"
   ]
  },
  {
   "cell_type": "code",
   "execution_count": null,
   "metadata": {},
   "outputs": [],
   "source": [
    "from task_utils import *"
   ]
  },
  {
   "cell_type": "code",
   "execution_count": null,
   "metadata": {},
   "outputs": [],
   "source": [
    "import funbo as fb\n",
    "import funbo.plotting as fp\n",
    "import distributed_gp as dgp"
   ]
  },
  {
   "cell_type": "code",
   "execution_count": null,
   "metadata": {},
   "outputs": [],
   "source": [
    "domain_bounds = [('x1', 0, 6), ('x2', 0, 6)]\n",
    "range_bounds = (-1, 2.5)"
   ]
  },
  {
   "cell_type": "code",
   "execution_count": null,
   "metadata": {},
   "outputs": [],
   "source": [
    "noisy = False\n",
    "def to_fit(X):\n",
    "    ''' from https://github.com/fmfn/BayesianOptimization/issues/18 '''\n",
    "    x, y = X[:,0], X[:,1]\n",
    "    a = np.exp(-( (x - 2)**2/0.7 + (y - 4)**2/1.2) + (x - 2)*(y - 4)/1.6 )\n",
    "    b = np.exp(-( (x - 4)**2/3 + (y - 2)**2/2.) )\n",
    "    c = np.exp(-( (x - 4)**2/0.5 + (y - 4)**2/0.5) + (x - 4)*(y - 4)/0.5 )\n",
    "    d = np.sin(3.1415 * x)\n",
    "    e = np.exp(-( (x - 5.5)**2/0.5 + (y - 5.5)**2/.5) )\n",
    "    val = 2*a + b - c + 0.17 * d + 2*e\n",
    "    if noisy:\n",
    "        val += np.random.normal(0, 0.2, size=None if isinstance(x, float) else x.shape)\n",
    "    #return val.reshape(-1, 1)\n",
    "    return val"
   ]
  },
  {
   "cell_type": "code",
   "execution_count": null,
   "metadata": {},
   "outputs": [],
   "source": [
    "def plot_to_fit():\n",
    "    g = fb.utils.RegularGrid(30, [b[1:] for b in domain_bounds], traverse_order='big')\n",
    "    X, Y = g.meshgrid(cartesian_index=False)\n",
    "    Z = g.fun_on_grid(to_fit)\n",
    "    fp.surface_3D(X, Y, Z, axes_names=('x1', 'x2', 'y'))\n",
    "plot_to_fit()"
   ]
  },
  {
   "cell_type": "code",
   "execution_count": null,
   "metadata": {},
   "outputs": [],
   "source": [
    "def make_objective(to_fit, sample_num):\n",
    "    def objective(f):\n",
    "        bounds = [b[1:] for b in domain_bounds]\n",
    "        R_g = 0.0\n",
    "        def g(x):\n",
    "            return (f(x) - to_fit(x))**2\n",
    "        # local rewards\n",
    "        R_ls = []\n",
    "        print('calculating the local rewards')\n",
    "        for x in fb.utils.RegularGrid(sample_num, bounds):\n",
    "            R_l = g(x)\n",
    "            R_ls.append((x, R_l))\n",
    "            R_g += R_l\n",
    "        return R_ls, R_g\n",
    "    return objective"
   ]
  },
  {
   "cell_type": "code",
   "execution_count": null,
   "metadata": {},
   "outputs": [],
   "source": [
    "class Coordinator(fb.Coordinator):\n",
    "    def get_pre_phase_config(self, trial_num):\n",
    "        #c = fb.GPPriorSelectConfig(self.optimiser)\n",
    "        c = fb.RandomCPSelectConfig(self.optimiser)\n",
    "        return c\n",
    "\n",
    "    def get_bayes_config(self, trial_num):\n",
    "        o = self.optimiser\n",
    "        c = fb.BayesSelectConfig(o)\n",
    "        \n",
    "        n = o.num_available_training_points()\n",
    "        \n",
    "        c.surrogate = fb.DistributedGPSurrogate(\n",
    "            init_params=dict(\n",
    "                num_experts=10,\n",
    "                kernel=sk_gp.kernels.WhiteKernel() + 1.0 * sk_gp.kernels.RBF(),\n",
    "            ),\n",
    "            optimise_params=dict(\n",
    "                iterations=3,\n",
    "                randomize_theta=True,\n",
    "                extra_starts=2,\n",
    "                quiet=False\n",
    "            ),\n",
    "            predict_params=None,\n",
    "            parallel=True\n",
    "        )\n",
    "        \n",
    "        \"\"\"\n",
    "        c.surrogate = fb.DistributedGPSurrogate(\n",
    "            init_params=dict(\n",
    "                num_experts=4,\n",
    "                kernel=GPy.kern.RBF(o.surrogate_dimensionality()),\n",
    "                expert_class=dgp.GPyExpert\n",
    "            ),\n",
    "            optimise_params=dict(\n",
    "                iterations=2,\n",
    "                randomize_theta=True,\n",
    "                extra_starts=0,\n",
    "                quiet=False\n",
    "            ),\n",
    "            predict_params=None,\n",
    "            parallel=False\n",
    "        )\n",
    "        \"\"\"\n",
    "        \n",
    "        #c.surrogate.optimise_params['num_restarts'] = 1\n",
    "        #c.surrogate.optimise_params['verbose'] = True\n",
    "        \n",
    "        e = fb.IndependentExtractionConfig(o)\n",
    "        c.extraction_config = e\n",
    "        e.control_xs = fb.RegularGrid(15, o.domain_bounds)\n",
    "        e.samples_per_cp = 200\n",
    "        e.sample_distribution = 'linear'\n",
    "        \n",
    "        #e.aux_optimiser_params['num_random'] = 100\n",
    "        #e.aux_optimiser_params['num_bfgs'] = 0\n",
    "        e.interpolation = 'cubic'\n",
    "        \n",
    "        \n",
    "        return c"
   ]
  },
  {
   "cell_type": "code",
   "execution_count": null,
   "metadata": {},
   "outputs": [],
   "source": [
    "opt = None\n",
    "np.random.seed(0)\n",
    "objective = make_objective(to_fit, sample_num=15)\n",
    "global opt\n",
    "opt = fb.Optimiser(objective, domain_bounds, range_bounds, desired_extremum='min')\n",
    "opt.run(Coordinator(5, 7))"
   ]
  },
  {
   "cell_type": "code",
   "execution_count": null,
   "metadata": {},
   "outputs": [],
   "source": [
    "fig, (ax1, ax2, ax3) = plt.subplots(1, 3, figsize=(30, 8))\n",
    "fp.plot_convergence(opt, optimal_R_g=0, ax=ax1)\n",
    "#fp.plot_consecutive_distance(opt, ax=ax2)\n",
    "fp.plot_timings(opt, ax=ax3)\n",
    "fig.tight_layout()\n",
    "\n",
    "#fp.plot_trials(opt, opt.trials, to_fit, color_by_reward=True)\n",
    "#fp.plot_surrogate_with_trials(opt, -1, to_fit)\n",
    "#\n",
    "#inc_i, inc = opt.get_incumbent()\n",
    "#print('incumbent = trial {}'.format(inc_i))\n",
    "#fp.plot_trial_area(opt, inc, to_fit)"
   ]
  },
  {
   "cell_type": "code",
   "execution_count": null,
   "metadata": {},
   "outputs": [],
   "source": [
    "fp.plot_trial_quantities(opt, {\n",
    "    'acq_evals': lambda t: t.selection.extraction.acq_evals if t.is_bayes() else 0,\n",
    "    #'acq_gradient_evals': lambda t: t.selection.extraction.acq_gradient_evals if t.is_bayes() else 0\n",
    "    #'acq_time': lambda t: t.selection.extraction.acq_total_time/t.selection.extraction.acq_evals if t.is_bayes() else 0,\n",
    "})\n",
    "print(opt.trials[-1].selection.extraction.acq_evals)"
   ]
  },
  {
   "cell_type": "code",
   "execution_count": null,
   "metadata": {},
   "outputs": [],
   "source": [
    "g = fb.utils.RegularGrid(100, [(0, 6), (0, 6)])\n",
    "X, Y = g.meshgrid(cartesian_index=False)\n",
    "Z = g.fun_on_grid(opt.trials[-1].f)\n",
    "fp.surface_3D(X, Y, Z, axes_names=('x1', 'x2', 'y'))"
   ]
  },
  {
   "cell_type": "code",
   "execution_count": null,
   "metadata": {},
   "outputs": [],
   "source": [
    "def plot_output_choices(opt, trial_num, x, true_f=None, plot_true_f=False):\n",
    "    fig, (ax1, ax2) = plt.subplots(1, 2, figsize=(20, 8))\n",
    "    t = opt.trials[trial_num]\n",
    "    assert type(t.config) == fb.BayesSelectConfig\n",
    "    \n",
    "    if x.ndim == 2:\n",
    "        xmin, xmax = opt.domain_bounds[0]\n",
    "        ymin, ymax = opt.domain_bounds[1]\n",
    "        n = 100\n",
    "        g = fb.utils.RegularGrid(50, [b[1:] for b in domain_bounds], traverse_order='big')\n",
    "        X, Y = g.meshgrid(cartesian_index=False)\n",
    "        if plot_true_f:\n",
    "            assert true_f is not None\n",
    "            Z = g.fun_on_grid(true_f)\n",
    "        else:\n",
    "            Z = g.fun_on_grid(t.f)\n",
    "        im = ax1.pcolormesh(X, Y, Z, cmap='viridis')\n",
    "        c = fig.colorbar(im, ax=ax1)\n",
    "        c.set_label('true_f(x)' if plot_true_f else 'extracted_f(x)')\n",
    "        ax1.scatter(x[0,0], x[0,1], color='r')\n",
    "        ax1.set_xlim(xmin, xmax)\n",
    "        ax1.set_xlabel(opt.domain_names[0])\n",
    "        ax1.set_ylabel(opt.domain_names[1])\n",
    "        ax1.set_ylim(ymin, ymax)\n",
    "    \n",
    "    ys = np.linspace(*opt.range_bounds, num=100).reshape(-1, 1)\n",
    "    inputs = opt._points_along_y(x, ys)\n",
    "    # assuming the extraction method uses an acquisition function\n",
    "    e = t.config.extraction_config\n",
    "    acq = e.acquisition(inputs, surrogate=t.surrogate, maximising=opt.is_maximising(), **e.acquisition_params)\n",
    "    R_mu, R_var = t.surrogate.predict(inputs)\n",
    "    R_sig = np.sqrt(R_var)\n",
    "    n_sig = 2\n",
    "    if true_f is not None:\n",
    "        ax2.axvline(x=true_f(x), color='k', label='true output')\n",
    "    ax2.axvline(x=t.f(x), color='C2', linestyle='--', label='extracted function output')\n",
    "    ax2.plot(ys, R_mu, label='surrogate')\n",
    "    ax2.plot(ys, acq, label='acquisition')\n",
    "    ax2.fill_between(ys.flatten(), (R_mu-n_sig*R_sig).flatten(), (R_mu+n_sig*R_sig).flatten(), alpha=0.2)\n",
    "    ax2.set_xlabel('function output')\n",
    "    ax2.set_ylabel('predicted local reward')\n",
    "    ax2.legend()\n",
    "    \n",
    "    fig.tight_layout()\n",
    "\n",
    "def plot_output_choices_interactive(opt, trial_num, true_f=None, plot_true_f=False, **kwargs):\n",
    "    vals = [kwargs[name] for name in opt.domain_names]\n",
    "    plot_output_choices(opt, trial_num, np.array([vals]), true_f=true_f, plot_true_f=plot_true_f)\n",
    "\n",
    "import ipywidgets as widgets\n",
    "\n",
    "def param_sliders(opt, step=0.25):\n",
    "    return {name : widgets.FloatSlider(min=xmin, max=xmax, step=step, value=(xmax-xmin)/2)\n",
    "            for name, (xmin, xmax) in zip(opt.domain_names, opt.domain_bounds)}\n",
    "\n",
    "widgets.interact(plot_output_choices_interactive, opt=widgets.fixed(opt), trial_num=widgets.fixed(-1), true_f=widgets.fixed(to_fit), plot_true_f=False, **param_sliders(opt));"
   ]
  },
  {
   "cell_type": "code",
   "execution_count": null,
   "metadata": {},
   "outputs": [],
   "source": [
    "print(dir(opt.trials[-1].surrogate.model.experts[0].model))\n",
    "s = opt.trials[-1].surrogate\n",
    "#s.model.experts[0].log_marginal_likelihood(s.model.theta)\n",
    "L = s.model.experts[0].model.L_.copy()\n",
    "np.fill_diagonal(L, 0)\n",
    "np.all(np.isclose(L, 0))"
   ]
  },
  {
   "cell_type": "code",
   "execution_count": null,
   "metadata": {},
   "outputs": [],
   "source": [
    "ply."
   ]
  },
  {
   "cell_type": "code",
   "execution_count": null,
   "metadata": {},
   "outputs": [],
   "source": []
  },
  {
   "cell_type": "code",
   "execution_count": null,
   "metadata": {},
   "outputs": [],
   "source": []
  },
  {
   "cell_type": "code",
   "execution_count": null,
   "metadata": {},
   "outputs": [],
   "source": []
  },
  {
   "cell_type": "code",
   "execution_count": null,
   "metadata": {},
   "outputs": [],
   "source": [
    "fig, ax = plt.subplots(figsize=(16,10))\n",
    "opt.trials[-1].surrogate.model.plot(visible_dims=[0,1], ax=ax)"
   ]
  },
  {
   "cell_type": "code",
   "execution_count": null,
   "metadata": {},
   "outputs": [],
   "source": [
    "opt.get_training_data(fb.SurrogateConfig(opt))[0].shape[0]"
   ]
  },
  {
   "cell_type": "code",
   "execution_count": null,
   "metadata": {},
   "outputs": [],
   "source": []
  }
 ],
 "metadata": {
  "kernelspec": {
   "display_name": "Python 3",
   "language": "python",
   "name": "python3"
  },
  "language_info": {
   "codemirror_mode": {
    "name": "ipython",
    "version": 3
   },
   "file_extension": ".py",
   "mimetype": "text/x-python",
   "name": "python",
   "nbconvert_exporter": "python",
   "pygments_lexer": "ipython3",
   "version": "3.6.5"
  }
 },
 "nbformat": 4,
 "nbformat_minor": 2
}
